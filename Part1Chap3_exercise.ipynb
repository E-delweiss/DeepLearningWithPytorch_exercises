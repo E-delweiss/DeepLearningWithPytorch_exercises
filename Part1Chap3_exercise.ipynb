{
 "cells": [
  {
   "cell_type": "markdown",
   "metadata": {},
   "source": [
    "# Chapter 3 : It starts with a tensor\n",
    "### 1. Create a tensor `a` from `list(range(9))`. Predict and then check the size, offset, and stride.\n",
    "* Create a new tensor using `b = a.view(3, 3)`. What does view do? Check that `a` and `b` share the same storage.\n",
    "* Create a tensor `c = b[1:,1:]`. Predict and then check the size, offset, and stride."
   ]
  },
  {
   "cell_type": "code",
   "execution_count": 52,
   "metadata": {
    "execution": {
     "iopub.execute_input": "2021-08-06T15:54:34.737427Z",
     "iopub.status.busy": "2021-08-06T15:54:34.736860Z",
     "iopub.status.idle": "2021-08-06T15:54:34.744123Z",
     "shell.execute_reply": "2021-08-06T15:54:34.743068Z",
     "shell.execute_reply.started": "2021-08-06T15:54:34.737383Z"
    }
   },
   "outputs": [
    {
     "name": "stdout",
     "output_type": "stream",
     "text": [
      "tensor([0, 1, 2, 3, 4, 5, 6, 7, 8]) torch.Size([9])\n"
     ]
    }
   ],
   "source": [
    "import torch\n",
    "a = list(range(9))\n",
    "a = torch.tensor(a)\n",
    "print(a, a.shape)"
   ]
  },
  {
   "cell_type": "code",
   "execution_count": 53,
   "metadata": {
    "execution": {
     "iopub.execute_input": "2021-08-06T15:54:34.746025Z",
     "iopub.status.busy": "2021-08-06T15:54:34.745710Z",
     "iopub.status.idle": "2021-08-06T15:54:34.758583Z",
     "shell.execute_reply": "2021-08-06T15:54:34.757624Z",
     "shell.execute_reply.started": "2021-08-06T15:54:34.745995Z"
    }
   },
   "outputs": [
    {
     "name": "stdout",
     "output_type": "stream",
     "text": [
      "tensor([[0, 1, 2],\n",
      "        [3, 4, 5],\n",
      "        [6, 7, 8]]) torch.Size([3, 3])\n"
     ]
    }
   ],
   "source": [
    "b = a.view(3,3)\n",
    "print(b, b.shape)"
   ]
  },
  {
   "cell_type": "code",
   "execution_count": 54,
   "metadata": {
    "execution": {
     "iopub.execute_input": "2021-08-06T15:54:34.761040Z",
     "iopub.status.busy": "2021-08-06T15:54:34.760458Z",
     "iopub.status.idle": "2021-08-06T15:54:34.770186Z",
     "shell.execute_reply": "2021-08-06T15:54:34.769287Z",
     "shell.execute_reply.started": "2021-08-06T15:54:34.760996Z"
    }
   },
   "outputs": [
    {
     "name": "stdout",
     "output_type": "stream",
     "text": [
      " 0\n",
      " 1\n",
      " 2\n",
      " 3\n",
      " 4\n",
      " 5\n",
      " 6\n",
      " 7\n",
      " 8\n",
      "[torch.LongStorage of size 9] \n",
      "\n",
      "  0\n",
      " 1\n",
      " 2\n",
      " 3\n",
      " 4\n",
      " 5\n",
      " 6\n",
      " 7\n",
      " 8\n",
      "[torch.LongStorage of size 9]\n"
     ]
    }
   ],
   "source": [
    "print(a.storage(),'\\n\\n', b.storage())"
   ]
  },
  {
   "cell_type": "markdown",
   "metadata": {},
   "source": [
    "**1a.** The `view` function rearange a tensor.`view(n,m)` return an exception if n\\*m ≠ `a.shape[0]`.\n",
    "We also show that `b` is just an other way to see `a`, since they both share the same storage."
   ]
  },
  {
   "cell_type": "code",
   "execution_count": 55,
   "metadata": {
    "execution": {
     "iopub.execute_input": "2021-08-06T15:54:34.772291Z",
     "iopub.status.busy": "2021-08-06T15:54:34.771804Z",
     "iopub.status.idle": "2021-08-06T15:54:34.783629Z",
     "shell.execute_reply": "2021-08-06T15:54:34.782727Z",
     "shell.execute_reply.started": "2021-08-06T15:54:34.772253Z"
    }
   },
   "outputs": [
    {
     "data": {
      "text/plain": [
       "tensor([[4, 5],\n",
       "        [7, 8]])"
      ]
     },
     "execution_count": 55,
     "metadata": {},
     "output_type": "execute_result"
    }
   ],
   "source": [
    "c = b[1:,1:]\n",
    "c"
   ]
  },
  {
   "cell_type": "markdown",
   "metadata": {},
   "source": [
    "**1b.** Here, `c` seems to be a part of the tensor `b`. So they should share the same storage. However, elements in `c` do not follow the same structure and do not start with the same element. So, we should expect a modification of the `stride` and `offset` informations."
   ]
  },
  {
   "cell_type": "code",
   "execution_count": 56,
   "metadata": {
    "execution": {
     "iopub.execute_input": "2021-08-06T15:54:34.785215Z",
     "iopub.status.busy": "2021-08-06T15:54:34.784877Z",
     "iopub.status.idle": "2021-08-06T15:54:34.798916Z",
     "shell.execute_reply": "2021-08-06T15:54:34.798032Z",
     "shell.execute_reply.started": "2021-08-06T15:54:34.785183Z"
    }
   },
   "outputs": [
    {
     "name": "stdout",
     "output_type": "stream",
     "text": [
      "c storage : \n",
      "  0\n",
      " 1\n",
      " 2\n",
      " 3\n",
      " 4\n",
      " 5\n",
      " 6\n",
      " 7\n",
      " 8\n",
      "[torch.LongStorage of size 9]\n",
      "\n",
      " c offset : \n",
      " 4\n",
      "c stride : \n",
      " (3, 1)\n"
     ]
    }
   ],
   "source": [
    "print(\"c storage : \\n\", c.storage())\n",
    "print(\"\\n c offset : \\n\", c.storage_offset())\n",
    "print(\"c stride : \\n\", c.stride())"
   ]
  },
  {
   "cell_type": "markdown",
   "metadata": {},
   "source": [
    "As we predicted, `c` shares the same storage than `a` and `b` since it can be see as a part of tensors `a` or `b`. \\\n",
    "Also, it starts with the number 4 so the `offset` is 4 \\\n",
    "And then, `stride(3,1)` because it takes 3 positions in the storage to go to the next row and it takes 1 position in the storage to go to the next column."
   ]
  },
  {
   "cell_type": "markdown",
   "metadata": {},
   "source": [
    "### 2. Pick a mathematical operation like cosine or square root. Can you find a corresponding function in the torch library?\n",
    "* Apply the function element-wise to `a`. Why does it return an error?\n",
    "* What operation is required to make the function work?\n",
    "* Is there a version of your function that operates in place?"
   ]
  },
  {
   "cell_type": "code",
   "execution_count": 57,
   "metadata": {
    "execution": {
     "iopub.execute_input": "2021-08-06T15:54:34.800616Z",
     "iopub.status.busy": "2021-08-06T15:54:34.800099Z",
     "iopub.status.idle": "2021-08-06T15:54:34.813906Z",
     "shell.execute_reply": "2021-08-06T15:54:34.812967Z",
     "shell.execute_reply.started": "2021-08-06T15:54:34.800581Z"
    }
   },
   "outputs": [
    {
     "data": {
      "text/plain": [
       "torch.int64"
      ]
     },
     "execution_count": 57,
     "metadata": {},
     "output_type": "execute_result"
    }
   ],
   "source": [
    "a.dtype"
   ]
  },
  {
   "cell_type": "code",
   "execution_count": 58,
   "metadata": {
    "execution": {
     "iopub.execute_input": "2021-08-06T15:54:34.815548Z",
     "iopub.status.busy": "2021-08-06T15:54:34.815054Z",
     "iopub.status.idle": "2021-08-06T15:54:34.829409Z",
     "shell.execute_reply": "2021-08-06T15:54:34.828228Z",
     "shell.execute_reply.started": "2021-08-06T15:54:34.815509Z"
    }
   },
   "outputs": [
    {
     "data": {
      "text/plain": [
       "torch.int64"
      ]
     },
     "execution_count": 58,
     "metadata": {},
     "output_type": "execute_result"
    }
   ],
   "source": [
    "#a_sqrt = torch.sqrt(a)\n",
    "### It returns an exception because dtype(a) = int64 and it should be a float\n",
    "a.dtype"
   ]
  },
  {
   "cell_type": "code",
   "execution_count": 59,
   "metadata": {
    "execution": {
     "iopub.execute_input": "2021-08-06T15:54:34.831431Z",
     "iopub.status.busy": "2021-08-06T15:54:34.830895Z",
     "iopub.status.idle": "2021-08-06T15:54:34.843725Z",
     "shell.execute_reply": "2021-08-06T15:54:34.842807Z",
     "shell.execute_reply.started": "2021-08-06T15:54:34.831396Z"
    }
   },
   "outputs": [
    {
     "data": {
      "text/plain": [
       "torch.float32"
      ]
     },
     "execution_count": 59,
     "metadata": {},
     "output_type": "execute_result"
    }
   ],
   "source": [
    "# Float32 is commonly use in Pytorch\n",
    "a_float32 = a.to(torch.float32)\n",
    "a_float32.dtype"
   ]
  },
  {
   "cell_type": "code",
   "execution_count": 60,
   "metadata": {
    "execution": {
     "iopub.execute_input": "2021-08-06T15:54:34.846201Z",
     "iopub.status.busy": "2021-08-06T15:54:34.845677Z",
     "iopub.status.idle": "2021-08-06T15:54:34.858838Z",
     "shell.execute_reply": "2021-08-06T15:54:34.857838Z",
     "shell.execute_reply.started": "2021-08-06T15:54:34.846167Z"
    }
   },
   "outputs": [
    {
     "data": {
      "text/plain": [
       "tensor([0.0000, 1.0000, 1.4142, 1.7321, 2.0000, 2.2361, 2.4495, 2.6458, 2.8284])"
      ]
     },
     "execution_count": 60,
     "metadata": {},
     "output_type": "execute_result"
    }
   ],
   "source": [
    "a_sqrt = torch.sqrt(a_float32)\n",
    "a_sqrt # It works !"
   ]
  },
  {
   "cell_type": "code",
   "execution_count": 61,
   "metadata": {
    "execution": {
     "iopub.execute_input": "2021-08-06T15:54:34.860943Z",
     "iopub.status.busy": "2021-08-06T15:54:34.860558Z",
     "iopub.status.idle": "2021-08-06T15:54:34.874029Z",
     "shell.execute_reply": "2021-08-06T15:54:34.872737Z",
     "shell.execute_reply.started": "2021-08-06T15:54:34.860911Z"
    }
   },
   "outputs": [
    {
     "data": {
      "text/plain": [
       "tensor([0.0000, 1.0000, 1.4142, 1.7321, 2.0000, 2.2361, 2.4495, 2.6458, 2.8284])"
      ]
     },
     "execution_count": 61,
     "metadata": {},
     "output_type": "execute_result"
    }
   ],
   "source": [
    "# We could also use the inplace function as well\n",
    "torch.sqrt_(a_float32)\n",
    "a_float32"
   ]
  }
 ],
 "metadata": {
  "kernelspec": {
   "display_name": "Python 3",
   "language": "python",
   "name": "python3"
  },
  "language_info": {
   "codemirror_mode": {
    "name": "ipython",
    "version": 3
   },
   "file_extension": ".py",
   "mimetype": "text/x-python",
   "name": "python",
   "nbconvert_exporter": "python",
   "pygments_lexer": "ipython3",
   "version": "3.8.8"
  }
 },
 "nbformat": 4,
 "nbformat_minor": 4
}
