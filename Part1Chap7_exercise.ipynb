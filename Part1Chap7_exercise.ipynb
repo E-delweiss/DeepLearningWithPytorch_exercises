{
 "cells": [
  {
   "cell_type": "markdown",
   "id": "fcb1da27",
   "metadata": {},
   "source": [
    "# Chapter 7 : Telling birds from airplanes: Learning from images\n",
    "\n",
    "### 1. Use torchvision to implement random cropping of the data.\n",
    "* How are the resulting images different from the uncropped originals?\n",
    "* What happens when you request the same image a second time?\n",
    "* What is the result of training using randomly cropped images?"
   ]
  },
  {
   "cell_type": "markdown",
   "id": "11fa4dcd",
   "metadata": {},
   "source": [
    "In this exercise we'll use the torchvision framework to train a model on a dataset called CIFAR10 which is provided by torchvision.\\\n",
    "First, we'll recall some example of the book : how to load CIFAR10, how images are labelized, how to use the *transforms* module... \\\n",
    "Then, we'll train a model on that dataset in regard to the exercise by considering a *classification problem*."
   ]
  },
  {
   "cell_type": "code",
   "execution_count": 3,
   "id": "1c928339",
   "metadata": {},
   "outputs": [
    {
     "data": {
      "text/plain": [
       "(Dataset CIFAR10\n",
       "     Number of datapoints: 50000\n",
       "     Root location: data\n",
       "     Split: Train,\n",
       " Dataset CIFAR10\n",
       "     Number of datapoints: 10000\n",
       "     Root location: data\n",
       "     Split: Test)"
      ]
     },
     "execution_count": 3,
     "metadata": {},
     "output_type": "execute_result"
    }
   ],
   "source": [
    "from torchvision import datasets\n",
    "data_path = 'data'\n",
    "cifar10 = datasets.CIFAR10(data_path, train=True, download=False) \n",
    "cifar10_val = datasets.CIFAR10(data_path, train=False, download=False)\n",
    "\n",
    "class_names = ['airplane','automobile','bird','cat','deer',\n",
    "               'dog','frog','horse','ship','truck']\n",
    "\n",
    "cifar10, cifar10_val"
   ]
  },
  {
   "cell_type": "code",
   "execution_count": 4,
   "id": "6178cb90",
   "metadata": {},
   "outputs": [
    {
     "data": {
      "image/png": "[encoded data removed]",
      "text/plain": [
       "<Figure size 432x288 with 1 Axes>"
      ]
     },
     "metadata": {
      "needs_background": "light"
     },
     "output_type": "display_data"
    }
   ],
   "source": [
    "import matplotlib.pyplot as plt\n",
    "img, label = cifar10[2001] # arbitrary image\n",
    "img, label, class_names[label]\n",
    "\n",
    "plt.imshow(img);"
   ]
  },
  {
   "cell_type": "code",
   "execution_count": 5,
   "id": "4c56004e",
   "metadata": {},
   "outputs": [
    {
     "data": {
      "text/plain": [
       "torch.Size([3, 32, 32])"
      ]
     },
     "execution_count": 5,
     "metadata": {},
     "output_type": "execute_result"
    }
   ],
   "source": [
    "from torchvision import transforms\n",
    "to_tensor = transforms.ToTensor()\n",
    "img_t = to_tensor(img)\n",
    "img_t.shape"
   ]
  },
  {
   "cell_type": "code",
   "execution_count": 6,
   "id": "f7cdad33",
   "metadata": {},
   "outputs": [
    {
     "data": {
      "image/png": "[encoded data removed]",
      "text/plain": [
       "<Figure size 432x288 with 2 Axes>"
      ]
     },
     "metadata": {
      "needs_background": "light"
     },
     "output_type": "display_data"
    }
   ],
   "source": [
    "plt.subplot(121)\n",
    "cropping = transforms.RandomCrop(20)\n",
    "plt.imshow(cropping(img))\n",
    "\n",
    "plt.subplot(122)\n",
    "cropping = transforms.RandomCrop(20)\n",
    "plt.imshow(cropping(img));"
   ]
  },
  {
   "cell_type": "markdown",
   "id": "903c131f",
   "metadata": {},
   "source": [
    "As expected, the resulting image is cropped top the size mentioned in the *RandomCrop* method. Since it's random, the crop isn't taken at the same location twice."
   ]
  },
  {
   "cell_type": "markdown",
   "id": "3d7fc069",
   "metadata": {},
   "source": [
    "Now, let's build our dataset and train or model on it. We'll have to use Tensor instead of PIL images."
   ]
  },
  {
   "cell_type": "markdown",
   "id": "ce4e1321",
   "metadata": {},
   "source": [
    "First, we transform the CIFAR10 dataset into Tensor to find the mean/std to normalized the dataset so that each channel has zero mean and unitary standard deviation. In the book, we can find the reasons why : \"*keeping the data in the same range means it’s more likely that neurons have nonzero gradients and, hence, will learn sooner. Also, normalizing each channel so that it has the same distribution will ensure that channel information can be mixed and updated through gradient descent using the same learning rate*\""
   ]
  },
  {
   "cell_type": "code",
   "execution_count": 7,
   "id": "c5046dac",
   "metadata": {},
   "outputs": [
    {
     "name": "stdout",
     "output_type": "stream",
     "text": [
      "torch.Size([3, 20, 20, 50000])\n"
     ]
    }
   ],
   "source": [
    "import torch\n",
    "cifar10 = datasets.CIFAR10(data_path, train=True, download=False,\n",
    "                          transform=transforms.Compose([\n",
    "                              transforms.ToTensor(),\n",
    "                              transforms.RandomCrop(20)]))\n",
    "imgs = torch.stack([img for img, _ in cifar10], dim=3)\n",
    "print(imgs.shape)"
   ]
  },
  {
   "cell_type": "code",
   "execution_count": 8,
   "id": "3aea9fdb",
   "metadata": {},
   "outputs": [
    {
     "name": "stdout",
     "output_type": "stream",
     "text": [
      "torch.Size([3, 20000000])\n",
      "mean :  tensor([0.4905, 0.4708, 0.4348]) \n",
      "std :  tensor([0.2402, 0.2362, 0.2510])\n"
     ]
    }
   ],
   "source": [
    "# Keeping the 3 channels and merging all the remaining dimensions into one\n",
    "print(imgs.view(3,-1).shape)\n",
    "\n",
    "# Finding the mean and std of the stack for normalization\n",
    "mean = imgs.view(3,-1).mean(dim=1)\n",
    "std = imgs.view(3,-1).std(dim=1)\n",
    "print(\"mean : \", mean, \"\\nstd : \", std)"
   ]
  },
  {
   "cell_type": "code",
   "execution_count": 9,
   "id": "09a0a9e4",
   "metadata": {},
   "outputs": [],
   "source": [
    "preprocessor = transforms.Compose([transforms.ToTensor(),\n",
    "                                 transforms.RandomCrop(20),\n",
    "                                 transforms.Normalize((0.4903, 0.4707, 0.4347), (0.2402, 0.2361, 0.2507))])"
   ]
  },
  {
   "cell_type": "code",
   "execution_count": 10,
   "id": "4dbbc223",
   "metadata": {},
   "outputs": [
    {
     "data": {
      "text/plain": [
       "Dataset CIFAR10\n",
       "    Number of datapoints: 50000\n",
       "    Root location: data\n",
       "    Split: Train\n",
       "    StandardTransform\n",
       "Transform: Compose(\n",
       "               ToTensor()\n",
       "               RandomCrop(size=(20, 20), padding=None)\n",
       "               Normalize(mean=(0.4903, 0.4707, 0.4347), std=(0.2402, 0.2361, 0.2507))\n",
       "           )"
      ]
     },
     "execution_count": 10,
     "metadata": {},
     "output_type": "execute_result"
    }
   ],
   "source": [
    "cifar10 = datasets.CIFAR10(data_path, train=True, download=False,\n",
    "                          transform=preprocessor)\n",
    "cifar10_val = datasets.CIFAR10(data_path, train=False, download=False,\n",
    "                          transform=preprocessor)\n",
    "cifar10"
   ]
  },
  {
   "cell_type": "markdown",
   "id": "2a657054",
   "metadata": {},
   "source": [
    "Since the crop is random, the mean and std of the stack will be slightly different each time so should be the normalization. Because this difference is small we'll stick to this normalization."
   ]
  },
  {
   "cell_type": "code",
   "execution_count": 11,
   "id": "22671f5a",
   "metadata": {},
   "outputs": [
    {
     "name": "stderr",
     "output_type": "stream",
     "text": [
      "Clipping input data to the valid range for imshow with RGB data ([0..1] for floats or [0..255] for integers).\n",
      "Clipping input data to the valid range for imshow with RGB data ([0..1] for floats or [0..255] for integers).\n"
     ]
    },
    {
     "data": {
      "image/png": "[encoded data removed]",
      "text/plain": [
       "<Figure size 432x288 with 2 Axes>"
      ]
     },
     "metadata": {
      "needs_background": "light"
     },
     "output_type": "display_data"
    }
   ],
   "source": [
    "img1, _ = cifar10[2001]\n",
    "img2, _ = cifar10[2001]\n",
    "\n",
    "plt.subplot(121)\n",
    "plt.imshow(img1.permute(1, 2, 0))\n",
    "\n",
    "plt.subplot(122)\n",
    "plt.imshow(img2.permute(1, 2, 0));"
   ]
  },
  {
   "cell_type": "markdown",
   "id": "965791b6",
   "metadata": {},
   "source": [
    "Surprisingly, the preprocessor seems to stick to each sample ! Each time we call the cifar10 variable, it calls the *transforms.Compose* preprocessing and a random cropping is execute too !"
   ]
  },
  {
   "cell_type": "markdown",
   "id": "ef32aea2",
   "metadata": {},
   "source": [
    "We recall the goal of this exercise : telling birds from airplanes. To work on different data, let's modify this by *telling trucks from ships*. So let's filter the data in CIFAR10."
   ]
  },
  {
   "cell_type": "code",
   "execution_count": 12,
   "id": "e7ef7476",
   "metadata": {},
   "outputs": [],
   "source": [
    "label_map = {8: 0, 9: 1}\n",
    "class_names = ['ship', 'truck']\n",
    "cifar2 = [(img, label_map[label]) for img, label in cifar10 if label in [8, 9]]\n",
    "cifar2_val = [(img, label_map[label]) for img, label in cifar10_val if label in [8, 9]]"
   ]
  },
  {
   "cell_type": "markdown",
   "id": "e3d5c3f9",
   "metadata": {},
   "source": [
    "Each image has a size of 20x20 after cropping. And each one has 3 channel for the RGB colors. So the input features are 3x20x20 = 1200. \\\n",
    "Also, we need to interpret our output in terms of probabilities (it's either a truck or a ship), so we introduce the Softmax function : \"*Softmax is a monotone function, in that lower values in the input will correspond to lower values in the output. However, it’s not scale invariant, in that the ratio between values is not preserved*\"."
   ]
  },
  {
   "cell_type": "markdown",
   "id": "e1179f7c",
   "metadata": {},
   "source": [
    "Here, we can chose *nn.LogSoftmax* instead to be able to use the *negative log likelihood nn.NLLLoss* as our loss (see Chapter 7.2.5). And to be more Pytorch-like, we'll go with *nn.CrossEntropyLoss* which is the combination of using *nn.LogSoftmax* and *nn.NLLLoss* as it is explained in the end of the 7.2.6 section."
   ]
  },
  {
   "cell_type": "code",
   "execution_count": 13,
   "id": "5361717d",
   "metadata": {},
   "outputs": [],
   "source": [
    "#Initilization\n",
    "import torch.nn as nn\n",
    "import torch.optim as optim\n",
    "import time\n",
    "\n",
    "n_out = 2\n",
    "model = nn.Sequential(nn.Linear(1200, 512),\n",
    "                     nn.Tanh(),\n",
    "                     nn.Linear(512,n_out))\n",
    "\n",
    "loss_fn = nn.CrossEntropyLoss()\n",
    "optimizer = optim.SGD(model.parameters(), lr=1e-2)"
   ]
  },
  {
   "cell_type": "markdown",
   "id": "0a3e84c0",
   "metadata": {},
   "source": [
    "Now we'd like to evaluate all the 10000 images, except it would be too much in a single batch and it may conducts the optimization process to get stuck in local minima. By shuffling samples at each epoch and estimating the gradient on a few samples at a time, we are introducing randomness in our gradient descent which helps convergence."
   ]
  },
  {
   "cell_type": "code",
   "execution_count": 14,
   "id": "6bf91d84",
   "metadata": {},
   "outputs": [
    {
     "name": "stdout",
     "output_type": "stream",
     "text": [
      "Epoch: 0, Training Loss: 0.528837\n",
      "Epoch: 1, Training Loss: 0.578594\n",
      "Epoch: 2, Training Loss: 0.429819\n",
      "Epoch: 10, Training Loss: 0.274383\n",
      "Epoch: 20, Training Loss: 0.543682\n",
      "Epoch: 30, Training Loss: 0.256672\n",
      "Epoch: 40, Training Loss: 0.514291\n",
      "Epoch: 50, Training Loss: 0.391341\n",
      "Epoch: 60, Training Loss: 0.166963\n",
      "Epoch: 70, Training Loss: 0.036834\n",
      "Epoch: 80, Training Loss: 0.123754\n",
      "Epoch: 90, Training Loss: 0.070163\n",
      "Execution took: 0:02:04 secs (Wall clock time)\n"
     ]
    }
   ],
   "source": [
    "import time\n",
    "from datetime import timedelta\n",
    "start_time = time.time()\n",
    "\n",
    "\n",
    "\n",
    "train_loader = torch.utils.data.DataLoader(cifar2, batch_size=64,shuffle=True)\n",
    "val_loader = torch.utils.data.DataLoader(cifar2_val, batch_size=64, shuffle=False)\n",
    "\n",
    "def training_loop(nb_epochs, model, optimizer, loss_fn, train_dataloader):\n",
    "    for epoch in range(nb_epochs):\n",
    "        for imgs, labels in train_dataloader:\n",
    "            batch_size = imgs.shape[0]\n",
    "            outputs = model(imgs.view(batch_size, -1)) # resulting in a (64x1200) Tensor\n",
    "            loss = loss_fn(outputs, labels)\n",
    "            \n",
    "            optimizer.zero_grad() \n",
    "            loss.backward() \n",
    "            optimizer.step()\n",
    "        \n",
    "        if epoch == 1 or epoch == 2 or epoch %10 == 0:\n",
    "            print(\"Epoch: %d, Training Loss: %f\" % (epoch, float(loss)))\n",
    "    \n",
    "\n",
    "training_loop(100, model, optimizer, loss_fn, train_loader)\n",
    "\n",
    "\n",
    "\n",
    "elapsed_time_secs = time.time() - start_time\n",
    "msg = \"Execution took: %s secs (Wall clock time)\" % timedelta(seconds=round(elapsed_time_secs))\n",
    "print(msg)"
   ]
  },
  {
   "cell_type": "markdown",
   "id": "670a25f6",
   "metadata": {},
   "source": [
    "Well, it's a good start : our model seems to provide a good fit on the train data. \\\n",
    "Let's compute the accuracy which is a more intuitive way to deal with classification problem."
   ]
  },
  {
   "cell_type": "code",
   "execution_count": 15,
   "id": "2cd3f12b",
   "metadata": {},
   "outputs": [
    {
     "name": "stdout",
     "output_type": "stream",
     "text": [
      "Accuracy: 0.9946\n"
     ]
    }
   ],
   "source": [
    "### Train data accuracy\n",
    "correct = 0\n",
    "total = 0\n",
    "with torch.no_grad():\n",
    "    for imgs, labels in train_loader:\n",
    "        batch_size = imgs.shape[0]\n",
    "        outputs = model(imgs.view(batch_size, -1)) # prediction\n",
    "        _, predicted = torch.max(outputs, dim=1) \n",
    "        total += labels.shape[0]\n",
    "        correct += int((predicted == labels).sum())\n",
    "print(\"Accuracy:\", correct / total)"
   ]
  },
  {
   "cell_type": "markdown",
   "id": "b29294dc",
   "metadata": {},
   "source": [
    "By using cropped images, the model seems to train correctly on the training set."
   ]
  },
  {
   "cell_type": "code",
   "execution_count": 16,
   "id": "9efc1cf0",
   "metadata": {},
   "outputs": [
    {
     "name": "stdout",
     "output_type": "stream",
     "text": [
      "Accuracy: 0.752\n"
     ]
    }
   ],
   "source": [
    "### Validation data accuracy\n",
    "correct = 0\n",
    "total = 0\n",
    "with torch.no_grad():\n",
    "    for imgs, labels in val_loader:\n",
    "        batch_size = imgs.shape[0]\n",
    "        outputs = model(imgs.view(batch_size, -1)) # prediction\n",
    "        _, predicted = torch.max(outputs, dim=1) \n",
    "        total += labels.shape[0]\n",
    "        correct += int((predicted == labels).sum())\n",
    "print(\"Accuracy:\", correct / total)"
   ]
  },
  {
   "cell_type": "markdown",
   "id": "8a0eeea0",
   "metadata": {},
   "source": [
    "On the contrary, the accuracy on unseen data is not satisfying : our model clearly overfits since it captures well the complexity of the training set but can't generalize enough on unseen data."
   ]
  },
  {
   "cell_type": "markdown",
   "id": "786eacd8",
   "metadata": {},
   "source": [
    "### 2. Switch loss functions (perhaps MSE).\n",
    "* Does the training behavior change?"
   ]
  },
  {
   "cell_type": "code",
   "execution_count": 17,
   "id": "21a15fb6",
   "metadata": {},
   "outputs": [],
   "source": [
    "def training_loop2(nb_epochs, model, optimizer, loss_fn, train_dataloader):\n",
    "    for epoch in range(nb_epochs):\n",
    "        for imgs, labels in train_dataloader:\n",
    "            batch_size = imgs.shape[0]\n",
    "            outputs = model(imgs.view(batch_size, -1)) # resulting in a (64x1200) Tensor\n",
    "            _, predicted = torch.max(outputs, dim=1)\n",
    "            loss = loss_fn(predicted.to(torch.float32), labels)\n",
    "            \n",
    "            optimizer.zero_grad() \n",
    "            loss.backward() \n",
    "            optimizer.step()\n",
    "        \n",
    "        if epoch == 1 or epoch == 2 or epoch %10 == 0:\n",
    "            print(\"Epoch: %d, Training Loss: %f\" % (epoch, float(loss)))"
   ]
  },
  {
   "cell_type": "code",
   "execution_count": 18,
   "id": "a24ef3fc",
   "metadata": {},
   "outputs": [
    {
     "name": "stdout",
     "output_type": "stream",
     "text": [
      "Execution took: 0:00:00 secs (Wall clock time)\n"
     ]
    }
   ],
   "source": [
    "n_out = 2\n",
    "model = nn.Sequential(nn.Linear(1200, 512),\n",
    "                     nn.Tanh(),\n",
    "                     nn.Linear(512, n_out))\n",
    "\n",
    "loss_fn2 = nn.MSELoss()\n",
    "optimizer = optim.SGD(model.parameters(), lr=1e-2)\n",
    "\n",
    "\n",
    "start_time = time.time()\n",
    "\n",
    "# training_loop2(100, model, optimizer, loss_fn2, train_loader)\n",
    "\n",
    "elapsed_time_secs = time.time() - start_time\n",
    "msg = \"Execution took: %s secs (Wall clock time)\" % timedelta(seconds=round(elapsed_time_secs))\n",
    "print(msg)"
   ]
  },
  {
   "cell_type": "markdown",
   "id": "c0e5ee56",
   "metadata": {},
   "source": [
    "This question need further interest since I can't run the training loop with MSEloss function in the case of categorial problem."
   ]
  },
  {
   "cell_type": "markdown",
   "id": "d1d19e4e",
   "metadata": {},
   "source": [
    "### 3. Is it possible to reduce the capacity of the network enough that it stops overfitting? \n",
    "* How does the model perform on the validation set when doing so?"
   ]
  },
  {
   "cell_type": "code",
   "execution_count": 19,
   "id": "2fa13ac2",
   "metadata": {},
   "outputs": [
    {
     "name": "stdout",
     "output_type": "stream",
     "text": [
      "Epoch: 0, Training Loss: 0.475922\n",
      "Epoch: 1, Training Loss: 0.464955\n",
      "Epoch: 2, Training Loss: 0.646715\n",
      "Epoch: 10, Training Loss: 0.606024\n",
      "Epoch: 20, Training Loss: 0.844688\n",
      "Epoch: 30, Training Loss: 0.459089\n",
      "Epoch: 40, Training Loss: 0.399365\n",
      "Epoch: 50, Training Loss: 0.380740\n",
      "Epoch: 60, Training Loss: 0.317419\n",
      "Epoch: 70, Training Loss: 0.411381\n",
      "Epoch: 80, Training Loss: 0.403583\n",
      "Epoch: 90, Training Loss: 0.529729\n",
      "Epoch: 100, Training Loss: 0.360211\n",
      "Execution took: 0:00:15 secs (Wall clock time)\n"
     ]
    }
   ],
   "source": [
    "n_out = 2\n",
    "model = nn.Sequential(nn.Linear(1200, 2),\n",
    "                     nn.Tanh(),\n",
    "                     nn.Linear(2, n_out))\n",
    "loss_fn = nn.CrossEntropyLoss()\n",
    "optimizer = optim.SGD(model.parameters(), lr=1e-2)\n",
    "\n",
    "\n",
    "start_time = time.time()\n",
    "\n",
    "training_loop(101, model, optimizer, loss_fn, train_loader)\n",
    "\n",
    "elapsed_time_secs = time.time() - start_time\n",
    "msg = \"Execution took: %s secs (Wall clock time)\" % timedelta(seconds=round(elapsed_time_secs))\n",
    "print(msg)"
   ]
  },
  {
   "cell_type": "code",
   "execution_count": 20,
   "id": "dfe91405",
   "metadata": {},
   "outputs": [
    {
     "name": "stdout",
     "output_type": "stream",
     "text": [
      "Train Accuracy: 0.7794\n",
      "Validation Accuracy: 0.6965\n"
     ]
    }
   ],
   "source": [
    "### Train data accuracy\n",
    "correct_train = 0\n",
    "total_train = 0\n",
    "with torch.no_grad():\n",
    "    for imgs, labels in train_loader:\n",
    "        batch_size = imgs.shape[0]\n",
    "        outputs = model(imgs.view(batch_size, -1)) # prediction\n",
    "        _, predicted = torch.max(outputs, dim=1) \n",
    "        total_train += labels.shape[0]\n",
    "        correct_train += int((predicted == labels).sum())\n",
    "\n",
    "### Validation data accuracy\n",
    "correct_val = 0\n",
    "total_val = 0\n",
    "with torch.no_grad():\n",
    "    for imgs, labels in val_loader:\n",
    "        batch_size = imgs.shape[0]\n",
    "        outputs = model(imgs.view(batch_size, -1)) # prediction\n",
    "        _, predicted = torch.max(outputs, dim=1) \n",
    "        total_val += labels.shape[0]\n",
    "        correct_val += int((predicted == labels).sum())\n",
    "\n",
    "\n",
    "print(\"Train Accuracy:\", correct_train / total_train)\n",
    "print(\"Validation Accuracy:\", correct_val / total_val)"
   ]
  },
  {
   "cell_type": "markdown",
   "id": "826bb4d8",
   "metadata": {},
   "source": [
    "By drastically reducing the size of the hidden layer, we create a model less constrain and more likely to underfit the data. Since the train accuracy and the validation accuracy are closer together, the model less overfits the data. In return, it leads to a small decrease of validation accuracy (with a deeper network, it is possible to go further with an accuracy of 0.8020 on the validation set. See 7.2.5). \\\n",
    "What is important is the validation accuracy. By reducing the model complexity, we obtain almost the same accuracy result (compared to our former model, not the complexe one of the book) but especially, we decreased widely the computation cost."
   ]
  }
 ],
 "metadata": {
  "kernelspec": {
   "display_name": "Python 3",
   "language": "python",
   "name": "python3"
  },
  "language_info": {
   "codemirror_mode": {
    "name": "ipython",
    "version": 3
   },
   "file_extension": ".py",
   "mimetype": "text/x-python",
   "name": "python",
   "nbconvert_exporter": "python",
   "pygments_lexer": "ipython3",
   "version": "3.8.8"
  }
 },
 "nbformat": 4,
 "nbformat_minor": 5
}
