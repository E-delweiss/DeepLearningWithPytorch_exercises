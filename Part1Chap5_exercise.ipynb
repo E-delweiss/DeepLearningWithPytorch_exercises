{
 "cells": [
  {
   "cell_type": "markdown",
   "metadata": {},
   "source": [
    "# Chapter 4 : The mechanics of learning\n",
    "\n",
    "### 1. Redefine the model to be w2\\*t_u\\*\\*2+w1\\*t_u+b.\n",
    "* What parts of the training loop, and so on, need to change to accommodate this redefinition?\n",
    "* What parts are agnostic to swapping out the model?\n",
    "* Is the resulting loss higher or lower after training?\n",
    "* Is the actual result better or worse?"
   ]
  },
  {
   "cell_type": "markdown",
   "metadata": {},
   "source": [
    "There are two measurements, one in celsius (with a thermometer in celsius) and one in an unknown unit (with a thermometer with unknown unit). We want to train a model on data with understandable unit to interpret the new readings.\\\n",
    "First, we suggest the two units are linearly related. Then we'll try another modeling, which is the purpose of the exercise.\n",
    "\n",
    "Since we are trying to train a model to predict a continuous variable (a temperature), this problem is a ***regression problem***."
   ]
  },
  {
   "cell_type": "code",
   "execution_count": 1,
   "metadata": {
    "execution": {
     "iopub.execute_input": "2021-08-08T17:14:53.709679Z",
     "iopub.status.busy": "2021-08-08T17:14:53.709337Z",
     "iopub.status.idle": "2021-08-08T17:14:53.897953Z",
     "shell.execute_reply": "2021-08-08T17:14:53.896850Z",
     "shell.execute_reply.started": "2021-08-08T17:14:53.709650Z"
    }
   },
   "outputs": [
    {
     "data": {
      "image/png": "[encoded data removed]",
      "text/plain": [
       "<Figure size 432x288 with 1 Axes>"
      ]
     },
     "metadata": {
      "needs_background": "light"
     },
     "output_type": "display_data"
    }
   ],
   "source": [
    "import torch\n",
    "import matplotlib.pyplot as plt\n",
    "%matplotlib inline\n",
    "\n",
    "t_celsius = [0.5, 14.0, 15.0, 28.0, 11.0, 8.0, 3.0, -4.0, 6.0, 13.0, 21.0] \n",
    "t_mesurement = [35.7, 55.9, 58.2, 81.9, 56.3, 48.9, 33.9, 21.8, 48.4, 60.4, 68.4] \n",
    "t_celsius = torch.tensor(t_celsius)\n",
    "t_mesurement = torch.tensor(t_mesurement)\n",
    "\n",
    "plt.figure()\n",
    "plt.scatter(t_mesurement, t_celsius);\n"
   ]
  },
  {
   "cell_type": "code",
   "execution_count": 2,
   "metadata": {
    "execution": {
     "iopub.execute_input": "2021-08-08T18:07:03.292269Z",
     "iopub.status.busy": "2021-08-08T18:07:03.291840Z",
     "iopub.status.idle": "2021-08-08T18:07:03.298147Z",
     "shell.execute_reply": "2021-08-08T18:07:03.297446Z",
     "shell.execute_reply.started": "2021-08-08T18:07:03.292233Z"
    }
   },
   "outputs": [],
   "source": [
    "### Model definition\n",
    "def model_lin(t_mesurement, w, b):\n",
    "    \"\"\"\n",
    "    Our linear model\n",
    "    \"\"\"\n",
    "    return w * t_mesurement + b\n",
    "\n",
    "def model_nonlin(t_mesurement, w1, w2, b):\n",
    "    \"\"\"\n",
    "    Our non-linear model\n",
    "    \"\"\"\n",
    "    return w2*t_mesurement**2+w1*t_mesurement+b\n",
    "\n",
    "\n",
    "### Loss function definition\n",
    "def loss_fn(t_predict, t_celsius):\n",
    "    \"\"\"\n",
    "    Mean square loss\n",
    "    \"\"\"\n",
    "    squared_diffs = (t_predict - t_celsius)**2\n",
    "    return squared_diffs.mean()"
   ]
  },
  {
   "cell_type": "markdown",
   "metadata": {},
   "source": [
    "Note : it is appropriate to define our loss function like above since we are dealing with a regression problem."
   ]
  },
  {
   "cell_type": "code",
   "execution_count": 3,
   "metadata": {
    "execution": {
     "iopub.execute_input": "2021-08-08T19:09:14.943232Z",
     "iopub.status.busy": "2021-08-08T19:09:14.942777Z",
     "iopub.status.idle": "2021-08-08T19:09:14.950728Z",
     "shell.execute_reply": "2021-08-08T19:09:14.949588Z",
     "shell.execute_reply.started": "2021-08-08T19:09:14.943189Z"
    }
   },
   "outputs": [],
   "source": [
    "### Training loop definition\n",
    "def training_loop(n_epochs, model, optimizer, params, train_t_mesurement, val_t_mesurement, \n",
    "                  train_t_celsius, val_t_celsius):\n",
    "    for epoch in range(1, n_epochs + 1):         \n",
    "        train_t_predict = model(train_t_mesurement, *params) # Predict train values\n",
    "        train_loss = loss_fn(train_t_predict, train_t_celsius)\n",
    "\n",
    "        val_t_predict = model(val_t_mesurement, *params) # Predict validation values\n",
    "        val_loss = loss_fn(val_t_predict, val_t_celsius)\n",
    "        \n",
    "        optimizer.zero_grad() # Clear gradients\n",
    "        train_loss.backward() # accumulate derivatives at leaf nodes\n",
    "        optimizer.step() # Update the value of parameters according to the optimization strategy\n",
    "\n",
    "        if epoch <= 3 or epoch % 500 == 0:\n",
    "            print(f\"Epoch {epoch}, Training loss {train_loss.item():.4f},\"\n",
    "            f\" Validation loss {val_loss.item():.4f}\")\n",
    "    \n",
    "    return params"
   ]
  },
  {
   "cell_type": "code",
   "execution_count": 4,
   "metadata": {
    "execution": {
     "iopub.execute_input": "2021-08-08T19:09:19.443246Z",
     "iopub.status.busy": "2021-08-08T19:09:19.442879Z",
     "iopub.status.idle": "2021-08-08T19:09:19.449241Z",
     "shell.execute_reply": "2021-08-08T19:09:19.448259Z",
     "shell.execute_reply.started": "2021-08-08T19:09:19.443209Z"
    }
   },
   "outputs": [],
   "source": [
    "### Setting train/validation indices (we use a 80%/20% ratio)\n",
    "n_samples = t_mesurement.shape[0] \n",
    "n_val = int(0.2 * n_samples) \n",
    "shuffled_indices = torch.randperm(n_samples)\n",
    "\n",
    "train_indices = shuffled_indices[:-n_val] \n",
    "val_indices = shuffled_indices[-n_val:]\n",
    "\n",
    "\n",
    "### Creating train/validation data\n",
    "train_t_mesurement = t_mesurement[train_indices]\n",
    "train_t_celsius = t_celsius[train_indices]\n",
    "\n",
    "val_t_mesurement = t_mesurement[val_indices]\n",
    "val_t_celsius = t_celsius[val_indices]"
   ]
  },
  {
   "cell_type": "code",
   "execution_count": 5,
   "metadata": {
    "execution": {
     "iopub.execute_input": "2021-08-08T19:14:51.773267Z",
     "iopub.status.busy": "2021-08-08T19:14:51.772888Z",
     "iopub.status.idle": "2021-08-08T19:14:52.643053Z",
     "shell.execute_reply": "2021-08-08T19:14:52.642115Z",
     "shell.execute_reply.started": "2021-08-08T19:14:51.773231Z"
    }
   },
   "outputs": [
    {
     "name": "stdout",
     "output_type": "stream",
     "text": [
      "Epoch 1, Training loss 85.6554, Validation loss 56.5547\n",
      "Epoch 2, Training loss 43.9632, Validation loss 11.2589\n",
      "Epoch 3, Training loss 36.8792, Validation loss 4.2194\n",
      "Epoch 500, Training loss 7.1544, Validation loss 2.7312\n",
      "Epoch 1000, Training loss 3.5517, Validation loss 2.5743\n",
      "Epoch 1500, Training loss 3.1001, Validation loss 2.5225\n",
      "Epoch 2000, Training loss 3.0435, Validation loss 2.5046\n",
      "Epoch 2500, Training loss 3.0364, Validation loss 2.4983\n",
      "Epoch 3000, Training loss 3.0355, Validation loss 2.4961\n",
      "\n",
      "With a linear model : \n",
      "w_trained =  tensor(5.3719, grad_fn=<SelectBackward>) \n",
      "b_trained =  tensor(-17.2278, grad_fn=<SelectBackward>)\n"
     ]
    }
   ],
   "source": [
    "### Optimizer definition\n",
    "import torch.optim as optim\n",
    "\n",
    "w1 = 1.0 \n",
    "b = 0.0\n",
    "params_lin = torch.tensor([w1, b], requires_grad=True)\n",
    "\n",
    "learning_rate = 1e-2\n",
    "optimizer_lin = optim.SGD([params_lin], lr=learning_rate) # Using  optimizer \n",
    "\n",
    "### Training our linear model\n",
    "trained_params = training_loop(\n",
    "    n_epochs = 3000,\n",
    "    model = model_lin,\n",
    "    optimizer = optimizer_lin,\n",
    "    params = params_lin,\n",
    "    train_t_mesurement = train_t_mesurement * 0.1,\n",
    "    val_t_mesurement = val_t_mesurement * 0.1,\n",
    "    train_t_celsius = train_t_celsius,\n",
    "    val_t_celsius = val_t_celsius)\n",
    "\n",
    "print(\"\\nWith a linear model : \\nw_trained = \", trained_params[0], \"\\nb_trained = \", trained_params[1])"
   ]
  },
  {
   "cell_type": "markdown",
   "metadata": {},
   "source": [
    "**Note** : we use stochastic gradient descent optimizer (SGD) but it is actually a simple gradient descent since its momentum argument is set to zero (default), and the loss is evaluated on all the samples.\n",
    "\n",
    "**Note 2** : we normalized `t_mesurement` to keep parameters in the same scale (and so the gardients). Also, SGD is quite sensitive to the scaling of parameters (see Chap5.4 - Chap5.5)"
   ]
  },
  {
   "cell_type": "markdown",
   "metadata": {},
   "source": [
    "To train our non-linear model (w2\\*t_u\\*\\*2+w1\\*t_u+b), we'll add a `model` variable to the function `training_loop` and we'll creat a `w2` param (set to 1 as `w1`) and redefine our optimizer. \\\n",
    "Let's see how behaves our new non-linear model."
   ]
  },
  {
   "cell_type": "code",
   "execution_count": 6,
   "metadata": {
    "execution": {
     "iopub.execute_input": "2021-08-08T19:15:14.540019Z",
     "iopub.status.busy": "2021-08-08T19:15:14.539660Z",
     "iopub.status.idle": "2021-08-08T19:15:15.545151Z",
     "shell.execute_reply": "2021-08-08T19:15:15.544046Z",
     "shell.execute_reply.started": "2021-08-08T19:15:14.539990Z"
    }
   },
   "outputs": [
    {
     "name": "stdout",
     "output_type": "stream",
     "text": [
      "Epoch 1, Training loss 681.2131, Validation loss 651.4102\n",
      "Epoch 2, Training loss 343937.4062, Validation loss 320902.0625\n",
      "Epoch 3, Training loss 177811296.0000, Validation loss 166189920.0000\n",
      "Epoch 500, Training loss nan, Validation loss nan\n",
      "Epoch 1000, Training loss nan, Validation loss nan\n",
      "Epoch 1500, Training loss nan, Validation loss nan\n",
      "Epoch 2000, Training loss nan, Validation loss nan\n",
      "Epoch 2500, Training loss nan, Validation loss nan\n",
      "Epoch 3000, Training loss nan, Validation loss nan\n",
      "\n",
      "With a non-linear model : \n",
      "w_trained =  tensor(nan, grad_fn=<SelectBackward>) \n",
      "b_trained =  tensor(nan, grad_fn=<SelectBackward>)\n"
     ]
    }
   ],
   "source": [
    "w1 = 1.0\n",
    "w2 = 1.0\n",
    "b = 0.0\n",
    "params_nonlin = torch.tensor([w1, w2, b], requires_grad=True)\n",
    "\n",
    "learning_rate = 1e-2\n",
    "optimizer_nonlin = optim.SGD([params_nonlin], lr=learning_rate)\n",
    "\n",
    "trained_params = training_loop(\n",
    "    n_epochs = 3000,\n",
    "    model = model_nonlin,\n",
    "    optimizer = optimizer_nonlin,\n",
    "    params = params_nonlin,\n",
    "    train_t_mesurement = train_t_mesurement * 0.1,\n",
    "    val_t_mesurement = val_t_mesurement * 0.1,\n",
    "    train_t_celsius = train_t_celsius,\n",
    "    val_t_celsius = val_t_celsius)\n",
    "\n",
    "print(\"\\nWith a non-linear model : \\nw_trained = \", \n",
    "      trained_params[0], \"\\nb_trained = \", trained_params[1])"
   ]
  },
  {
   "cell_type": "markdown",
   "metadata": {},
   "source": [
    "Here, the training loss and validation loss blow to infinity. Let's investigate what is swapping out our model."
   ]
  },
  {
   "cell_type": "code",
   "execution_count": 12,
   "metadata": {
    "execution": {
     "iopub.execute_input": "2021-08-08T19:18:47.970441Z",
     "iopub.status.busy": "2021-08-08T19:18:47.970071Z",
     "iopub.status.idle": "2021-08-08T19:18:48.955816Z",
     "shell.execute_reply": "2021-08-08T19:18:48.954840Z",
     "shell.execute_reply.started": "2021-08-08T19:18:47.970409Z"
    }
   },
   "outputs": [
    {
     "name": "stdout",
     "output_type": "stream",
     "text": [
      "Epoch 1, Training loss 681.2131, Validation loss 651.4102\n",
      "Epoch 2, Training loss 402.8719, Validation loss 384.9200\n",
      "Epoch 3, Training loss 240.9869, Validation loss 228.7853\n",
      "Epoch 500, Training loss 11.9509, Validation loss 2.6261\n",
      "Epoch 1000, Training loss 9.2196, Validation loss 2.4695\n",
      "Epoch 1500, Training loss 7.3807, Validation loss 2.4493\n",
      "Epoch 2000, Training loss 6.1420, Validation loss 2.5055\n",
      "Epoch 2500, Training loss 5.3073, Validation loss 2.6000\n",
      "Epoch 3000, Training loss 4.7442, Validation loss 2.7100\n",
      "Epoch 3500, Training loss 4.3639, Validation loss 2.8218\n",
      "Epoch 4000, Training loss 4.1066, Validation loss 2.9277\n",
      "Epoch 4500, Training loss 3.9320, Validation loss 3.0240\n",
      "Epoch 5000, Training loss 3.8131, Validation loss 3.1090\n",
      "\n",
      "With a non-linear model : \n",
      "w_trained =  tensor(-1.0316, grad_fn=<SelectBackward>) \n",
      "b_trained =  tensor(0.5763, grad_fn=<SelectBackward>)\n"
     ]
    }
   ],
   "source": [
    "w1 = 1.0\n",
    "w2 = 1.0\n",
    "b = 0.0\n",
    "params_nonlin = torch.tensor([w1, w2, b], requires_grad=True)\n",
    "\n",
    "learning_rate = 1e-4\n",
    "optimizer_nonlin = optim.SGD([params_nonlin], lr=learning_rate)\n",
    "\n",
    "trained_params = training_loop(\n",
    "    n_epochs = 5000,\n",
    "    model = model_nonlin,\n",
    "    optimizer = optimizer_nonlin,\n",
    "    params = params_nonlin,\n",
    "    train_t_mesurement = train_t_mesurement * 0.1,\n",
    "    val_t_mesurement = val_t_mesurement * 0.1,\n",
    "    train_t_celsius = train_t_celsius,\n",
    "    val_t_celsius = val_t_celsius)\n",
    "\n",
    "print(\"\\nWith a non-linear model : \\nw_trained = \", \n",
    "      trained_params[0], \"\\nb_trained = \", trained_params[1])"
   ]
  },
  {
   "cell_type": "markdown",
   "metadata": {},
   "source": [
    "By changing the learning rate to `1e-4`, the gradient descent is smoother and doesn't blow the parameters (and so, the gradients). \\\n",
    "It seems that we are converging and everythings went weel. \n",
    "\n",
    "Let's try to modify our optimizer using an Adam strategy in which the learning-rate is set adaptively. Also, it is less sensitive to the scale of parameters, so we can go back to our non-scaled mesurements."
   ]
  },
  {
   "cell_type": "code",
   "execution_count": 13,
   "metadata": {
    "execution": {
     "iopub.execute_input": "2021-08-08T19:37:22.177763Z",
     "iopub.status.busy": "2021-08-08T19:37:22.177414Z",
     "iopub.status.idle": "2021-08-08T19:37:24.478049Z",
     "shell.execute_reply": "2021-08-08T19:37:24.476949Z",
     "shell.execute_reply.started": "2021-08-08T19:37:22.177733Z"
    }
   },
   "outputs": [
    {
     "name": "stdout",
     "output_type": "stream",
     "text": [
      "Epoch 1, Training loss 11855569.0000, Validation loss 11052040.0000\n",
      "Epoch 2, Training loss 9594152.0000, Validation loss 8943740.0000\n",
      "Epoch 3, Training loss 7579711.0000, Validation loss 7065715.0000\n",
      "Epoch 500, Training loss 5.0972, Validation loss 2.5617\n",
      "Epoch 1000, Training loss 3.7968, Validation loss 2.9736\n",
      "Epoch 1500, Training loss 3.4956, Validation loss 3.3177\n",
      "Epoch 2000, Training loss 3.4467, Validation loss 3.4389\n",
      "Epoch 2500, Training loss 3.4148, Validation loss 3.4434\n",
      "Epoch 3000, Training loss 3.3751, Validation loss 3.4161\n",
      "\n",
      "With a non-linear model :\n",
      "w1_trained =  tensor(-0.1078, grad_fn=<SelectBackward>)\n",
      "w2_trained =  tensor(0.0060, grad_fn=<SelectBackward>)\n",
      "b_trained =  tensor(-1.7348, grad_fn=<SelectBackward>)\n"
     ]
    }
   ],
   "source": [
    "w1 = 1.0\n",
    "w2 = 1.0\n",
    "b = 0.0\n",
    "params_nonlin = torch.tensor([w1, w2, b], requires_grad=True)\n",
    "\n",
    "learning_rate = 1e-1\n",
    "optimizer_nonlin = optim.Adam([params_nonlin], lr=learning_rate) # Using Adam strategy\n",
    "\n",
    "trained_params = training_loop(\n",
    "    n_epochs = 3000,\n",
    "    model = model_nonlin,\n",
    "    optimizer = optimizer_nonlin,\n",
    "    params = params_nonlin,\n",
    "    train_t_mesurement = train_t_mesurement,\n",
    "    val_t_mesurement = val_t_mesurement,\n",
    "    train_t_celsius = train_t_celsius,\n",
    "    val_t_celsius = val_t_celsius)\n",
    "\n",
    "print(\"\\nWith a non-linear model :\")\n",
    "print(\"w1_trained = \", trained_params[0])\n",
    "print(\"w2_trained = \", trained_params[1])\n",
    "print(\"b_trained = \", trained_params[2])"
   ]
  },
  {
   "cell_type": "markdown",
   "metadata": {},
   "source": [
    "Here, we initialized the learning rate at `0.1`. The training loss is slightly lower than the validation loss and both are close to zero. They are very close together, which means overfitting is under controlled. \\\n",
    "It seems that the SGD method (which is a classic gradient descent here) gives sufficient performance to avoid using more sophisticated optimizer like Adam."
   ]
  },
  {
   "cell_type": "markdown",
   "metadata": {},
   "source": [
    "As a conclusion, the validation loss with the non-linear model doesn't seem to be better than those with the linear one. The linear model will lead to better generalization. We should use the linear model even if the non-linear one gives us acceptable results."
   ]
  },
  {
   "cell_type": "code",
   "execution_count": 14,
   "metadata": {
    "execution": {
     "iopub.execute_input": "2021-08-08T19:42:04.591324Z",
     "iopub.status.busy": "2021-08-08T19:42:04.590905Z",
     "iopub.status.idle": "2021-08-08T19:42:04.978364Z",
     "shell.execute_reply": "2021-08-08T19:42:04.977448Z",
     "shell.execute_reply.started": "2021-08-08T19:42:04.591285Z"
    }
   },
   "outputs": [
    {
     "data": {
      "image/png": "[encoded data removed]",
      "text/plain": [
       "<Figure size 432x288 with 1 Axes>"
      ]
     },
     "metadata": {
      "needs_background": "light"
     },
     "output_type": "display_data"
    },
    {
     "data": {
      "image/png": "[encoded data removed]",
      "text/plain": [
       "<Figure size 432x288 with 1 Axes>"
      ]
     },
     "metadata": {
      "needs_background": "light"
     },
     "output_type": "display_data"
    }
   ],
   "source": [
    "t_predict_lin = model_lin(t_mesurement*0.1, *params_lin)\n",
    "fig1 = plt.figure()\n",
    "plt.xlabel(\"Temperature (°Fahrenheit)\") \n",
    "plt.ylabel(\"Temperature (°Celsius)\") \n",
    "plt.plot(t_mesurement.numpy(), t_predict_lin.detach().numpy()) \n",
    "plt.plot(t_mesurement.numpy(), t_celsius.numpy(), 'o')\n",
    "\n",
    "t_predict_nonlin = model_nonlin(t_mesurement, *params_nonlin)\n",
    "fig2 = plt.figure()\n",
    "plt.xlabel(\"Temperature (°Fahrenheit)\") \n",
    "plt.ylabel(\"Temperature (°Celsius)\") \n",
    "plt.plot(t_mesurement.numpy(), t_predict_nonlin.detach().numpy()) \n",
    "plt.plot(t_mesurement.numpy(), t_celsius.numpy(), 'o');"
   ]
  },
  {
   "cell_type": "markdown",
   "metadata": {},
   "source": [
    "**Note** : i have to admit that the shape of the non-linear curve bothers me... I couldn't find why it results in this weird shape. Feel free to correct me (if i'm wrong) or to discuss with me if you have any lead. "
   ]
  }
 ],
 "metadata": {
  "kernelspec": {
   "display_name": "Python 3",
   "language": "python",
   "name": "python3"
  },
  "language_info": {
   "codemirror_mode": {
    "name": "ipython",
    "version": 3
   },
   "file_extension": ".py",
   "mimetype": "text/x-python",
   "name": "python",
   "nbconvert_exporter": "python",
   "pygments_lexer": "ipython3",
   "version": "3.8.8"
  }
 },
 "nbformat": 4,
 "nbformat_minor": 4
}
