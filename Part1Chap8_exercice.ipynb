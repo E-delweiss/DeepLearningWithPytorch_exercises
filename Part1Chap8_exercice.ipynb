{
 "cells": [
  {
   "cell_type": "markdown",
   "id": "f71cc5a4",
   "metadata": {},
   "source": [
    "# Chapter 8 : Using convolutions to generalize\n",
    "\n",
    "### 1. Change our model to use a 5 × 5 kernel with kernel_size=5 passed to the nn.Conv2d constructor.\n",
    "* What impact does this change have on the number of parameters in the model?\n",
    "* Does the change improve or degrade overfitting?\n",
    "* Read https://pytorch.org/docs/stable/nn.html#conv2d.\n",
    "* Can you describe what kernel_size=(1,3) will do?\n",
    "* How does the model behave with such a kernel?"
   ]
  },
  {
   "cell_type": "markdown",
   "id": "184a9805",
   "metadata": {},
   "source": [
    "In this chapter, we have seen how to make networks as a submodule of the `nn.Module` of Pytorch and how to use convolution and pooling layers to exploit locality, featuring translation invariance and diminishing the size of the feature images. \\\n",
    "Also, we have seen how to create deeper networks and especially how to prevent *vanishing gradient problem* by using tricks like *Batch Normalization* or by using a *skip-connection* for even deeper networks.\n",
    "\n",
    "We won't use those models here because we are dealing whith small images (3x32x32) and then it is overkill, as the authors say : \\\n",
    "\"*All this shouldn’t encourage us to seek depth on a dataset of 32 × 32 images, but it clearly demonstrates how this can be achieved on more challenging datasets like Image- Net. It also provides the key elements for understanding existing implementations for models like ResNet, for instance, in torchvision.*\""
   ]
  },
  {
   "cell_type": "markdown",
   "id": "6fd3688f",
   "metadata": {},
   "source": [
    "In this notebook we will use the model created in the chapter 8 of the book. It was write as an `nn.Module` of Pytorch and it is composed of two hidden layers. \\\n",
    "We recalling it below and re-creating our dataset :\n",
    "\n",
    "<img style=\"float: center;\" src='data/img_NET.jpg' width=\"200\" height=\"200\" align=\"center\"/>\n",
    "\n",
    "\n",
    "\n",
    "Note : the models have been already trained, all parameters were saved as a `.pt` file in the `/data` folder."
   ]
  },
  {
   "cell_type": "code",
   "execution_count": 134,
   "id": "88274908",
   "metadata": {},
   "outputs": [],
   "source": [
    "import torch\n",
    "import torch.optim as optim\n",
    "import torch.nn as nn\n",
    "import torch.nn.functional as F\n",
    "from torchvision.transforms import transforms\n",
    "from torchvision import datasets"
   ]
  },
  {
   "cell_type": "code",
   "execution_count": 4,
   "id": "5d6b8bd5",
   "metadata": {},
   "outputs": [],
   "source": [
    "data_path = '/data'\n",
    "cifar10 = datasets.CIFAR10(data_path, train=True, download=False, transform=transforms.Compose([\n",
    "    transforms.ToTensor(),\n",
    "    transforms.Normalize((0.4915, 0.4823, 0.4468), (0.2470, 0.2435, 0.2616))\n",
    "]))\n",
    "\n",
    "cifar10_val = datasets.CIFAR10(data_path, train=False, download=False, transform=transforms.Compose([\n",
    "    transforms.ToTensor(),\n",
    "    transforms.Normalize((0.4915, 0.4823, 0.4468), (0.2470, 0.2435, 0.2616))\n",
    "]))\n",
    "\n",
    "class_names = ['airplane','automobile','bird','cat','deer',\n",
    "               'dog','frog','horse','ship','truck']\n",
    "\n",
    "label_map = {0: 0, 2: 1}\n",
    "class_names = ['airplane', 'bird']\n",
    "cifar2 = [(img, label_map[label])\n",
    "          for img, label in cifar10\n",
    "          if label in [0, 2]]\n",
    "cifar2_val = [(img, label_map[label])\n",
    "              for img, label in cifar10_val\n",
    "              if label in [0, 2]]"
   ]
  },
  {
   "cell_type": "code",
   "execution_count": 22,
   "id": "75d955f9",
   "metadata": {},
   "outputs": [
    {
     "name": "stdout",
     "output_type": "stream",
     "text": [
      "Total number of parameter :  38386\n",
      "Number of parameters in each layer :  [864, 32, 4608, 16, 32768, 32, 64, 2]\n"
     ]
    }
   ],
   "source": [
    "class Net(nn.Module):\n",
    "    def __init__(self,  n_chans1=32):\n",
    "        super().__init__()\n",
    "        self.n_chans1 = n_chans1\n",
    "        self.conv1 = nn.Conv2d(3, n_chans1, kernel_size=3, padding=1)\n",
    "        self.conv2 = nn.Conv2d(n_chans1, n_chans1//2, kernel_size=3, padding=1)\n",
    "        self.fc1 = nn.Linear(8*8*n_chans1//2, 32)\n",
    "        self.fc2 = nn.Linear(32, 2)\n",
    "        \n",
    "    def forward(self, x):\n",
    "        out = F.max_pool2d(torch.tanh(self.conv1(x)), 2)\n",
    "        out = F.max_pool2d(torch.tanh(self.conv2(out)), 2)\n",
    "        out = out.view(-1, 8*8*self.n_chans1//2)\n",
    "        out = torch.tanh(self.fc1(out))\n",
    "        out = self.fc2(out)\n",
    "        return out\n",
    "    \n",
    "model = Net()\n",
    "numel_list = [p.numel() for p in model.parameters()] \n",
    "print('Total number of parameter : ', sum(numel_list))\n",
    "print(\"Number of parameters in each layer : \", numel_list)"
   ]
  },
  {
   "cell_type": "code",
   "execution_count": 21,
   "id": "bbfb3419",
   "metadata": {
    "scrolled": false
   },
   "outputs": [
    {
     "name": "stdout",
     "output_type": "stream",
     "text": [
      "Total number of parameter :  48114\n",
      "Number of parameters in each layer :  [2400, 32, 12800, 16, 32768, 32, 64, 2]\n"
     ]
    }
   ],
   "source": [
    "### Changing kernel_size\n",
    "class Net_newkernel(nn.Module):\n",
    "    def __init__(self,  n_chans1=32):\n",
    "        super().__init__()\n",
    "        self.n_chans1 = n_chans1\n",
    "        self.conv1 = nn.Conv2d(3, n_chans1, kernel_size=5, padding=2)\n",
    "        self.conv2 = nn.Conv2d(n_chans1, n_chans1//2, kernel_size=5, padding=2)\n",
    "        self.fc1 = nn.Linear(8*8*n_chans1//2, 32)\n",
    "        self.fc2 = nn.Linear(32, 2)\n",
    "        \n",
    "    def forward(self, x):\n",
    "        out = F.max_pool2d(torch.tanh(self.conv1(x)), 2)\n",
    "        out = F.max_pool2d(torch.tanh(self.conv2(out)), 2)\n",
    "        out = out.view(-1, 8*8*self.n_chans1//2)\n",
    "        out = torch.tanh(self.fc1(out))\n",
    "        out = self.fc2(out)\n",
    "        return out\n",
    "    \n",
    "model_kernel5 = Net_newkernel()\n",
    "numel_list = [p.numel() for p in model_kernel5.parameters()] \n",
    "print('Total number of parameter : ', sum(numel_list))\n",
    "print(\"Number of parameters in each layer : \", numel_list)"
   ]
  },
  {
   "cell_type": "markdown",
   "id": "ce224ce1",
   "metadata": {},
   "source": [
    "Without changing the desired output channel size and by selecting a convolution kernel of 5x5, the total number of parameters of our model increases by 25%. \n",
    "Note : we had to change the padding to be consistant in terms of output sizes."
   ]
  },
  {
   "cell_type": "code",
   "execution_count": 24,
   "id": "72d87857",
   "metadata": {
    "scrolled": true
   },
   "outputs": [
    {
     "name": "stdout",
     "output_type": "stream",
     "text": [
      "Training on device cpu.\n"
     ]
    }
   ],
   "source": [
    "import datetime\n",
    "device = (torch.device('cuda') if torch.cuda.is_available()\n",
    "          else torch.device('cpu'))\n",
    "print(f\"Training on device {device}.\")\n",
    "\n",
    "def training_loop(n_epochs, optimizer, model, loss_fn, train_loader):\n",
    "    for epoch in range(1, n_epochs + 1):\n",
    "        loss_train = 0.0\n",
    "        for imgs, labels in train_loader:\n",
    "            imgs = imgs.to(device=device)  # <1>\n",
    "            labels = labels.to(device=device)\n",
    "            \n",
    "            outputs = model(imgs) \n",
    "            loss = loss_fn(outputs, labels)\n",
    "            \n",
    "            optimizer.zero_grad()\n",
    "            loss.backward()\n",
    "            optimizer.step()\n",
    "\n",
    "            loss_train += loss.item()\n",
    "        if epoch == 1 or epoch % 10 == 0:\n",
    "            print('{} Epoch {}, Training loss {}'.format(\n",
    "                datetime.datetime.now(), epoch,\n",
    "                loss_train / len(train_loader)))\n",
    "            \n",
    "def validate(model, train_loader, val_loader):\n",
    "    accuracy_dict = {}\n",
    "    for name, loader in [(\"train\", train_loader), (\"val\", val_loader)]:\n",
    "        correct = 0\n",
    "        total = 0\n",
    "\n",
    "        with torch.no_grad():\n",
    "            for imgs, labels in loader:\n",
    "                imgs = imgs.to(device=device)\n",
    "                labels = labels.to(device=device)\n",
    "                outputs = model(imgs)\n",
    "                _, predicted = torch.max(outputs, dim=1) # <1>\n",
    "                total += labels.shape[0]\n",
    "                correct += int((predicted == labels).sum())\n",
    "\n",
    "        print(\"Accuracy {}: {:.2f}\".format(name , correct / total))\n",
    "        accuracy_dict[name] = correct / total\n",
    "    return accuracy_dict"
   ]
  },
  {
   "cell_type": "code",
   "execution_count": 20,
   "id": "ac22bbcb",
   "metadata": {},
   "outputs": [],
   "source": [
    "### Saving / Loading parameters\n",
    "def save_load(save_model, load_model, path, name, model_name):\n",
    "    if save_model:\n",
    "        torch.save(model_name.state_dict(), path + name)\n",
    "        print(f\"Parameters of the model {model_name} have been successfully saved\")\n",
    "        return\n",
    "\n",
    "    if load_model:\n",
    "        model_name = model_name().to(device=device)\n",
    "        model_name.load_state_dict(torch.load(path + name, map_location=device))\n",
    "        print(f\"Parameters have been successfully loaded in {model_name}\")\n",
    "        return model_name\n",
    "    \n",
    "    if load_model == False and save_model == False:\n",
    "        raise Exception(\"You have to specify whether you want to save or load a model.\")\n",
    "    \n",
    "    if load_model and save_model:\n",
    "        raise Exception(\"It can be misleading to save and load the parameters at the same time.\")"
   ]
  },
  {
   "cell_type": "code",
   "execution_count": null,
   "id": "b2dadf59",
   "metadata": {},
   "outputs": [],
   "source": [
    "train_loader = torch.utils.data.DataLoader(cifar2, batch_size=64, shuffle=False)\n",
    "val_loader = torch.utils.data.DataLoader(cifar2_val, batch_size=64, shuffle=False)"
   ]
  },
  {
   "cell_type": "code",
   "execution_count": 101,
   "id": "40ab2621",
   "metadata": {
    "scrolled": true
   },
   "outputs": [
    {
     "name": "stdout",
     "output_type": "stream",
     "text": [
      "2021-08-27 13:12:33.428234 Epoch 1, Training loss 0.5566195162238589\n",
      "2021-08-27 13:14:52.495401 Epoch 10, Training loss 0.3142995872315328\n",
      "2021-08-27 13:17:22.254285 Epoch 20, Training loss 0.26879982953997933\n",
      "2021-08-27 13:19:42.788088 Epoch 30, Training loss 0.23711505328204222\n",
      "2021-08-27 13:22:04.542019 Epoch 40, Training loss 0.20966298901920866\n",
      "2021-08-27 13:24:24.719137 Epoch 50, Training loss 0.18511778068770268\n",
      "2021-08-27 13:26:45.803298 Epoch 60, Training loss 0.16246780475518505\n",
      "2021-08-27 13:29:03.531775 Epoch 70, Training loss 0.140480528449177\n",
      "2021-08-27 13:31:36.007464 Epoch 80, Training loss 0.11949570617003805\n",
      "2021-08-27 13:34:06.645789 Epoch 90, Training loss 0.1000917593408732\n",
      "2021-08-27 13:36:28.340460 Epoch 100, Training loss 0.082368084816796\n"
     ]
    }
   ],
   "source": [
    "### Kernel size = 3x3\n",
    "model_kernel3 = Net().to(device=device)\n",
    "optimizer33 = optim.SGD(model_kernel3.parameters(), lr=1e-2)\n",
    "loss_fn = nn.CrossEntropyLoss()\n",
    "\n",
    "training_loop(\n",
    "    n_epochs = 100,\n",
    "    optimizer = optimizer33,\n",
    "    model = model_kernel3,\n",
    "    loss_fn = loss_fn,\n",
    "    train_loader = train_loader,\n",
    ")"
   ]
  },
  {
   "cell_type": "code",
   "execution_count": 6,
   "id": "645eaadc",
   "metadata": {
    "scrolled": true
   },
   "outputs": [
    {
     "name": "stderr",
     "output_type": "stream",
     "text": [
      "/Users/thierry/opt/anaconda3/lib/python3.8/site-packages/torch/nn/functional.py:718: UserWarning: Named tensors and all their associated APIs are an experimental feature and subject to change. Please do not use them for anything important until they are released as stable. (Triggered internally at  /Users/distiller/project/conda/conda-bld/pytorch_1623459044803/work/c10/core/TensorImpl.h:1156.)\n",
      "  return torch.max_pool2d(input, kernel_size, stride, padding, dilation, ceil_mode)\n"
     ]
    },
    {
     "name": "stdout",
     "output_type": "stream",
     "text": [
      "2021-08-26 08:04:59.188686 Epoch 1, Training loss 0.5278796969325679\n",
      "2021-08-26 08:08:41.699998 Epoch 10, Training loss 0.3009436071678332\n",
      "2021-08-26 08:12:47.353033 Epoch 20, Training loss 0.24531514562998608\n",
      "2021-08-26 08:16:58.558810 Epoch 30, Training loss 0.20092373787407664\n",
      "2021-08-26 08:21:03.786149 Epoch 40, Training loss 0.16242096444983392\n",
      "2021-08-26 08:25:29.606520 Epoch 50, Training loss 0.12756616849998\n",
      "2021-08-26 08:29:37.431415 Epoch 60, Training loss 0.09597909934581465\n",
      "2021-08-26 08:33:41.640914 Epoch 70, Training loss 0.06892329480522758\n",
      "2021-08-26 08:38:21.695474 Epoch 80, Training loss 0.04768813655349859\n",
      "2021-08-26 08:42:38.752955 Epoch 90, Training loss 0.03287433337859193\n",
      "2021-08-26 08:47:05.050042 Epoch 100, Training loss 0.022978694857376965\n"
     ]
    }
   ],
   "source": [
    "### Kernel size = 5x5\n",
    "model_kernel5 = Net_newkernel().to(device=device)\n",
    "optimizer55 = optim.SGD(model_kernel5.parameters(), lr=1e-2)\n",
    "loss_fn = nn.CrossEntropyLoss()\n",
    "\n",
    "training_loop(\n",
    "    n_epochs = 100,\n",
    "    optimizer = optimizer55,\n",
    "    model = model_kernel5,\n",
    "    loss_fn = loss_fn,\n",
    "    train_loader = train_loader,\n",
    ")"
   ]
  },
  {
   "cell_type": "code",
   "execution_count": 14,
   "id": "23eca994",
   "metadata": {},
   "outputs": [
    {
     "name": "stdout",
     "output_type": "stream",
     "text": [
      "Accuracy train: 0.99\n",
      "Accuracy val: 0.89\n"
     ]
    }
   ],
   "source": [
    "_ = validate(model_kernel5, train_loader, val_loader)"
   ]
  },
  {
   "cell_type": "markdown",
   "id": "21212eee",
   "metadata": {},
   "source": [
    "So the train score in the case of `kernel_size=5` is higher than the one with `kernel_size=3` and the validation accuracies seem to be the same. So, one can deduce that those changes improve overfitting : the train dataset is (almost) perfectly learnt, but it doesn't improve the capacity of the model to generalize through unseen data."
   ]
  },
  {
   "cell_type": "code",
   "execution_count": 95,
   "id": "ce34cbd1",
   "metadata": {
    "scrolled": true
   },
   "outputs": [
    {
     "name": "stdout",
     "output_type": "stream",
     "text": [
      "Output shape with square kernel and padding = 1 torch.Size([1, 32, 32, 32])\n",
      "Output shape with non-square kernel and padding = 0 torch.Size([1, 32, 32, 30])\n",
      "Output shape with non-square kernel and padding = 1 torch.Size([1, 32, 34, 32])\n",
      "Output shape with non-square kernel and padding = (0,1) torch.Size([1, 32, 32, 32])\n"
     ]
    }
   ],
   "source": [
    "conv33 = nn.Conv2d(3, 32, kernel_size=(3,3), padding=1)\n",
    "conv13_padding0 = nn.Conv2d(3, 32, kernel_size=(1,3), padding=0)\n",
    "conv13_padding1 = nn.Conv2d(3, 32, kernel_size=(1,3), padding=1)\n",
    "conv13_padding01 = nn.Conv2d(3, 32, kernel_size=(1,3), padding=(0,1))\n",
    "img, _ = cifar2[100]\n",
    "    \n",
    "output33 = conv33(img.unsqueeze(0))\n",
    "output13_padding0 = conv13_padding0(img.unsqueeze(0))\n",
    "output13_padding1 = conv13_padding1(img.unsqueeze(0))\n",
    "output13_padding01 = conv13_padding01(img.unsqueeze(0))\n",
    "\n",
    "print(\"Output shape with square kernel and padding = 1\", output33.shape)\n",
    "print(\"Output shape with non-square kernel and padding = 0\", output13_padding0.shape)\n",
    "print(\"Output shape with non-square kernel and padding = 1\", output13_padding1.shape)\n",
    "print(\"Output shape with non-square kernel and padding = (0,1)\", output13_padding01.shape)"
   ]
  },
  {
   "cell_type": "markdown",
   "id": "535921ac",
   "metadata": {},
   "source": [
    "Using a non-square kernel size as `kernel_size=(1,3)` will focus on horizontal detection since there is 3 times more of horizontal than vertical weights. Also, since it's a non-square kernel, we have to set the padding with a tuple `padding = (0,1)` to keep the outputs with the same shape compared to the inputs.\n",
    "\n",
    "See also : https://stackoverflow.com/questions/59946176/non-squared-convolution-kernel-size"
   ]
  },
  {
   "cell_type": "code",
   "execution_count": 76,
   "id": "d37995b7",
   "metadata": {},
   "outputs": [
    {
     "data": {
      "text/plain": [
       "Net_newkernel(\n",
       "  (conv1): Conv2d(3, 32, kernel_size=(5, 5), stride=(1, 1), padding=(2, 2))\n",
       "  (conv2): Conv2d(32, 16, kernel_size=(5, 5), stride=(1, 1), padding=(2, 2))\n",
       "  (fc1): Linear(in_features=1024, out_features=32, bias=True)\n",
       "  (fc2): Linear(in_features=32, out_features=2, bias=True)\n",
       ")"
      ]
     },
     "execution_count": 76,
     "metadata": {},
     "output_type": "execute_result"
    }
   ],
   "source": [
    "model_kernel5"
   ]
  },
  {
   "cell_type": "code",
   "execution_count": 96,
   "id": "6af3704a",
   "metadata": {},
   "outputs": [],
   "source": [
    "### Changing kernel_size\n",
    "class Net_newkernel13(nn.Module):\n",
    "    def __init__(self,  n_chans1=32):\n",
    "        super().__init__()\n",
    "        self.n_chans1 = n_chans1\n",
    "        self.conv1 = nn.Conv2d(3, n_chans1, kernel_size=(1,3), padding=(0,1))\n",
    "        self.conv2 = nn.Conv2d(n_chans1, n_chans1//2, kernel_size=(1,3), padding=(0,1))\n",
    "        self.fc1 = nn.Linear(8*8*n_chans1//2, 32)\n",
    "        self.fc2 = nn.Linear(32, 2)\n",
    "        \n",
    "    def forward(self, x):\n",
    "        out = F.max_pool2d(torch.tanh(self.conv1(x)), 2)\n",
    "        out = F.max_pool2d(torch.tanh(self.conv2(out)), 2)\n",
    "        out = out.view(-1, 8*8*self.n_chans1//2)\n",
    "        out = torch.tanh(self.fc1(out))\n",
    "        out = self.fc2(out)\n",
    "        return out"
   ]
  },
  {
   "cell_type": "code",
   "execution_count": 97,
   "id": "7146b823",
   "metadata": {},
   "outputs": [
    {
     "name": "stdout",
     "output_type": "stream",
     "text": [
      "2021-08-27 01:08:38.589325 Epoch 1, Training loss 0.5460081045414992\n",
      "2021-08-27 01:10:14.091815 Epoch 10, Training loss 0.34842085249864374\n",
      "2021-08-27 01:11:57.321762 Epoch 20, Training loss 0.3048952476234193\n",
      "2021-08-27 01:13:40.956657 Epoch 30, Training loss 0.2738129356104857\n",
      "2021-08-27 01:15:33.337801 Epoch 40, Training loss 0.24778122777581973\n",
      "2021-08-27 01:17:20.499185 Epoch 50, Training loss 0.22464247394329423\n",
      "2021-08-27 01:19:05.138778 Epoch 60, Training loss 0.20445078108341072\n",
      "2021-08-27 01:20:55.802694 Epoch 70, Training loss 0.18624177722224763\n",
      "2021-08-27 01:22:38.342078 Epoch 80, Training loss 0.16885942699992731\n",
      "2021-08-27 01:24:07.769352 Epoch 90, Training loss 0.15164617847674972\n",
      "2021-08-27 01:25:34.456400 Epoch 100, Training loss 0.13446136367074243\n"
     ]
    }
   ],
   "source": [
    "model_kernel13 = Net_newkernel13().to(device=device)\n",
    "optimizer13 = optim.SGD(model_kernel13.parameters(), lr=1e-2)\n",
    "loss_fn = nn.CrossEntropyLoss()\n",
    "\n",
    "training_loop(\n",
    "    n_epochs = 100,\n",
    "    optimizer = optimizer13,\n",
    "    model = model_kernel13,\n",
    "    loss_fn = loss_fn,\n",
    "    train_loader = train_loader,\n",
    ")"
   ]
  },
  {
   "cell_type": "code",
   "execution_count": 99,
   "id": "5b1705d1",
   "metadata": {},
   "outputs": [
    {
     "name": "stdout",
     "output_type": "stream",
     "text": [
      "Accuracy train: 0.94\n",
      "Accuracy val: 0.89\n"
     ]
    },
    {
     "data": {
      "text/plain": [
       "{'train': 0.9427, 'val': 0.89}"
      ]
     },
     "execution_count": 99,
     "metadata": {},
     "output_type": "execute_result"
    }
   ],
   "source": [
    "validate(model_kernel13, train_loader, val_loader)"
   ]
  },
  {
   "cell_type": "markdown",
   "id": "008800db",
   "metadata": {},
   "source": [
    "Well we can see that the train score decreased while the validation score is still the same. Hence, the model is less overfitting and keep the same capacity to generelize unseen data. \\\n",
    "By changing the size of the kernel and focus on one direction, it seems that we made the model less constrain and then, reduced overfitting.\n",
    "\n",
    "Also, I don't really know if it's relevent, but we can look at the running time on the same machine with the same parameters but different kernel sizes (`kernel_size = 5` and `kernel_size = (1,3)`). Using the non-square kernel appears to reduce the running time by 40%"
   ]
  },
  {
   "cell_type": "markdown",
   "id": "72216181",
   "metadata": {},
   "source": [
    "### 2. Can you find an image that contains neither a bird nor an airplane, but that the model claims has one or the other with more than 95% confidence?\n",
    "\n",
    "* Can you manually edit a neutral image to make it more airplane-like?\n",
    "* Can you manually edit an airplane image to trick the model into reporting a bird?\n",
    "* Do these tasks get easier with a network with less capacity? More capacity?"
   ]
  },
  {
   "cell_type": "code",
   "execution_count": 7,
   "id": "38e91bf6",
   "metadata": {
    "scrolled": true
   },
   "outputs": [
    {
     "name": "stdout",
     "output_type": "stream",
     "text": [
      "Parameters have been successfully loaded in Net(\n",
      "  (conv1): Conv2d(3, 32, kernel_size=(3, 3), stride=(1, 1), padding=(1, 1))\n",
      "  (conv2): Conv2d(32, 16, kernel_size=(3, 3), stride=(1, 1), padding=(1, 1))\n",
      "  (fc1): Linear(in_features=1024, out_features=32, bias=True)\n",
      "  (fc2): Linear(in_features=32, out_features=2, bias=True)\n",
      ")\n"
     ]
    }
   ],
   "source": [
    "model = save_load(False, True, '', 'databirds_vs_airplanes_kernel=3.pt', Net)"
   ]
  },
  {
   "cell_type": "markdown",
   "id": "d227436e",
   "metadata": {},
   "source": [
    "Let's construct a `cifar3` variable which is cifar10 without 'airplane' and 'bird' images. Also, since we're interested in probabilities, we'll call the `nn.Softmax` function to convert the output into those."
   ]
  },
  {
   "cell_type": "code",
   "execution_count": 27,
   "id": "09e1cc41",
   "metadata": {},
   "outputs": [],
   "source": [
    "import random as rd\n",
    "cifar3 = [(img, label) for img, label in cifar10 if label not in [0, 2]]\n",
    "softmax = nn.Softmax(dim=1)\n",
    "\n",
    "class_names_long = ['airplane','automobile','bird','cat','deer',\n",
    "               'dog','frog','horse','ship','truck']"
   ]
  },
  {
   "cell_type": "markdown",
   "id": "adf60d54",
   "metadata": {},
   "source": [
    "So, we are looking for an image which is neither an airplane or a bird, but that the model claims has one or the other with more than 95% confidence. Because we don't really know where this image is, we'll proceede by random search to avoid computational efforts."
   ]
  },
  {
   "cell_type": "code",
   "execution_count": 86,
   "id": "8acf7fd7",
   "metadata": {},
   "outputs": [
    {
     "name": "stdout",
     "output_type": "stream",
     "text": [
      "0.9847\n",
      "The current model found that a 'horse' is actually a 'airplane' with more than 95% of certainty.\n"
     ]
    }
   ],
   "source": [
    "output_prob = torch.tensor(0.)\n",
    "count = 0\n",
    "while torch.max(output_prob).item() <= 0.95:\n",
    "    img, label = rd.choice(cifar3)\n",
    "    output = model(img.unsqueeze(0))\n",
    "    output_prob = softmax(output)\n",
    "    count += 1\n",
    "    if count > len(cifar3):\n",
    "        break\n",
    "    \n",
    "if torch.max(output_prob).item() == output_prob[0][0].item():\n",
    "    prediction = \"airplane\"\n",
    "elif torch.max(output_prob).item() == output_prob[0][1].item():\n",
    "    prediction = \"bird\"\n",
    "\n",
    "print(f\"{torch.max(output_prob).item():.4f}\")\n",
    "print(f\"The current model found that a '{class_names_long[label]}' is actually a '{prediction}' \\\n",
    "with more than 95% of certainty.\")"
   ]
  },
  {
   "cell_type": "markdown",
   "id": "3fd911c8",
   "metadata": {},
   "source": [
    "The three last questions are a bit odd to me. So starting here, I will use my common sense and try some things that could lead to the answers."
   ]
  },
  {
   "cell_type": "markdown",
   "id": "e37ad31d",
   "metadata": {},
   "source": [
    "We are looking for a neutral image. So maybe an image that is neither an airplane nor a bird for sure. So, since our model is only capable to identify airplane or bird, we are looking for an image that our model claims to be one or the other with a probability around 50%."
   ]
  },
  {
   "cell_type": "code",
   "execution_count": 217,
   "id": "481c7fbb",
   "metadata": {
    "scrolled": true
   },
   "outputs": [
    {
     "name": "stdout",
     "output_type": "stream",
     "text": [
      "The current model found that a 'frog' is actually a 'bird' with a probability of 0.5053.\n"
     ]
    }
   ],
   "source": [
    "output_prob = torch.tensor([[99., 99.]])\n",
    "count = 0\n",
    "\n",
    "while torch.max(output_prob).item() >= 0.55:\n",
    "    img, label = rd.choice(cifar3)\n",
    "    output = model(img.unsqueeze(0))\n",
    "    output_prob = softmax(output)\n",
    "    count += 1\n",
    "    if count > len(cifar3):\n",
    "        print(\"Break time\")\n",
    "        break\n",
    "    \n",
    "if torch.max(output_prob).item() == output_prob[0][0].item():\n",
    "    prediction = \"airplane\"\n",
    "elif torch.max(output_prob).item() == output_prob[0][1].item():\n",
    "    prediction = \"bird\"\n",
    "\n",
    "print(f\"The current model found that a '{class_names_long[label]}' is actually a '{prediction}' \\\n",
    "with a probability of {torch.max(output_prob).item():.4f}.\")"
   ]
  },
  {
   "cell_type": "markdown",
   "id": "86f85e52",
   "metadata": {},
   "source": [
    "We're going to apply some transformation and see if anything is changing regarding the model predictions."
   ]
  },
  {
   "cell_type": "code",
   "execution_count": 219,
   "id": "ceae7762",
   "metadata": {},
   "outputs": [
    {
     "name": "stderr",
     "output_type": "stream",
     "text": [
      "Clipping input data to the valid range for imshow with RGB data ([0..1] for floats or [0..255] for integers).\n",
      "Clipping input data to the valid range for imshow with RGB data ([0..1] for floats or [0..255] for integers).\n"
     ]
    },
    {
     "name": "stdout",
     "output_type": "stream",
     "text": [
      "tensor([[0.0025, 0.9975]], grad_fn=<SoftmaxBackward>)\n"
     ]
    },
    {
     "data": {
      "text/plain": [
       "<matplotlib.image.AxesImage at 0x7fe6ade6de50>"
      ]
     },
     "execution_count": 219,
     "metadata": {},
     "output_type": "execute_result"
    },
    {
     "data": {
      "image/png": "[encoded data removed]",
      "text/plain": [
       "<Figure size 432x288 with 2 Axes>"
      ]
     },
     "metadata": {
      "needs_background": "light"
     },
     "output_type": "display_data"
    }
   ],
   "source": [
    "import torchvision.transforms.functional as FT\n",
    "img_w = torch.clone(img)\n",
    "img_wr = FT.rotate(img_w, 115)\n",
    "\n",
    "output = model(img_wr.unsqueeze(0))\n",
    "output_prob = softmax(output)\n",
    "print(output_prob)\n",
    "\n",
    "plt.subplot(1,2,1)\n",
    "plt.imshow(img.permute(1,2,0))\n",
    "plt.subplot(1,2,2)\n",
    "plt.imshow(img_wr.permute(1,2,0))"
   ]
  },
  {
   "cell_type": "markdown",
   "id": "7c03ef31",
   "metadata": {},
   "source": [
    "By rotating the input image by 115 degres, it appears to be more \"airplane-like\" to the model with a probabilty of 99.75%."
   ]
  },
  {
   "cell_type": "markdown",
   "id": "c8eba00e",
   "metadata": {},
   "source": [
    "Let's now find an airplane image and try to trick the model."
   ]
  },
  {
   "cell_type": "code",
   "execution_count": 224,
   "id": "2c4d8f62",
   "metadata": {},
   "outputs": [
    {
     "name": "stdout",
     "output_type": "stream",
     "text": [
      "The current model found that a 'airplane' is actually a 'airplane' with a probability of 0.9996.\n"
     ]
    }
   ],
   "source": [
    "output_prob = torch.tensor([[0., 0.]])\n",
    "count = 0\n",
    "\n",
    "while torch.max(output_prob).item() <= 0.98:\n",
    "    img, label = rd.choice(cifar2)\n",
    "    output = model(img.unsqueeze(0))\n",
    "    output_prob = softmax(output)\n",
    "    count += 1\n",
    "    if count > len(cifar2):\n",
    "        print(\"Break time\")\n",
    "        break\n",
    "    \n",
    "if torch.max(output_prob).item() == output_prob[0][0].item():\n",
    "    prediction = \"airplane\"\n",
    "elif torch.max(output_prob).item() == output_prob[0][1].item():\n",
    "    prediction = \"bird\"\n",
    "\n",
    "print(f\"The current model found that a '{class_names[label]}' is actually a '{prediction}' \\\n",
    "with a probability of {torch.max(output_prob).item():.4f}.\")"
   ]
  },
  {
   "cell_type": "code",
   "execution_count": 265,
   "id": "9387c1ea",
   "metadata": {
    "scrolled": true
   },
   "outputs": [
    {
     "name": "stderr",
     "output_type": "stream",
     "text": [
      "Clipping input data to the valid range for imshow with RGB data ([0..1] for floats or [0..255] for integers).\n"
     ]
    },
    {
     "name": "stdout",
     "output_type": "stream",
     "text": [
      "tensor([[0.5058, 0.4942]], grad_fn=<SoftmaxBackward>)\n"
     ]
    },
    {
     "data": {
      "image/png": "[encoded data removed]",
      "text/plain": [
       "<Figure size 432x288 with 1 Axes>"
      ]
     },
     "metadata": {
      "needs_background": "light"
     },
     "output_type": "display_data"
    }
   ],
   "source": [
    "img_airplane_bird = torch.clone(img)\n",
    "transformer = transforms.RandomErasing(p=1, scale=(0., 1), ratio=(1, 1), value=0, inplace=False)\n",
    "img_airplane_bird = transformer(img_airplane_bird)\n",
    "\n",
    "output = model(img_airplane_bird.unsqueeze(0))\n",
    "output_prob = softmax(output)\n",
    "print(output_prob)\n",
    "plt.imshow(img_airplane_bird.permute(1,2,0));"
   ]
  },
  {
   "cell_type": "markdown",
   "id": "5728500f",
   "metadata": {},
   "source": [
    "Against all wishes, it's actually very complicated to trick this simple model. Even by erasing a large part of the image, it still convinced that it is a plane. Only with luck, when the crop is in a particular area, we reach 50% of probability. At the contrary, if we rotate the image like the one before, there is a switch with a 120 degres rotation. \n",
    "\n",
    "Does that mean that our model is not rotation invariant and that it doesn't keep tracks of the shapes when they are rotate ?"
   ]
  },
  {
   "cell_type": "code",
   "execution_count": 271,
   "id": "961ca283",
   "metadata": {
    "scrolled": true
   },
   "outputs": [
    {
     "name": "stderr",
     "output_type": "stream",
     "text": [
      "Clipping input data to the valid range for imshow with RGB data ([0..1] for floats or [0..255] for integers).\n"
     ]
    },
    {
     "name": "stdout",
     "output_type": "stream",
     "text": [
      "tensor([[0.1668, 0.8332]], grad_fn=<SoftmaxBackward>)\n"
     ]
    },
    {
     "data": {
      "image/png": "[encoded data removed]",
      "text/plain": [
       "<Figure size 432x288 with 1 Axes>"
      ]
     },
     "metadata": {
      "needs_background": "light"
     },
     "output_type": "display_data"
    }
   ],
   "source": [
    "img_airplane_bird2 = torch.clone(img)\n",
    "img_wr = FT.rotate(img_airplane_bird2, 120)\n",
    "\n",
    "output = model(img_wr.unsqueeze(0))\n",
    "output_prob = softmax(output)\n",
    "print(output_prob)\n",
    "plt.imshow(img_wr.permute(1,2,0));"
   ]
  },
  {
   "cell_type": "markdown",
   "id": "19b8a832",
   "metadata": {},
   "source": [
    "* Do these tasks get easier with a network with less capacity? More capacity? \\\n",
    "I do not know how to conclude on this question... Maybe one has to think about overfitting and underfitting.\n",
    "To be continued... "
   ]
  },
  {
   "cell_type": "code",
   "execution_count": null,
   "id": "f5d5b384",
   "metadata": {},
   "outputs": [],
   "source": []
  }
 ],
 "metadata": {
  "kernelspec": {
   "display_name": "Python 3",
   "language": "python",
   "name": "python3"
  },
  "language_info": {
   "codemirror_mode": {
    "name": "ipython",
    "version": 3
   },
   "file_extension": ".py",
   "mimetype": "text/x-python",
   "name": "python",
   "nbconvert_exporter": "python",
   "pygments_lexer": "ipython3",
   "version": "3.8.8"
  }
 },
 "nbformat": 4,
 "nbformat_minor": 5
}
